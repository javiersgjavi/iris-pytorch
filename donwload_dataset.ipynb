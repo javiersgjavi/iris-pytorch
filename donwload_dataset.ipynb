{
 "cells": [
  {
   "cell_type": "code",
   "execution_count": 1,
   "metadata": {
    "collapsed": true
   },
   "outputs": [],
   "source": [
    "import os\n",
    "import torch\n",
    "\n",
    "from utils.Model import Model\n",
    "from utils.get_iris import get_iris\n",
    "from utils.Dataset import LoadDataset\n",
    "from torch.utils.data import DataLoader"
   ]
  },
  {
   "cell_type": "markdown",
   "source": [
    "## Check avaliable GPU"
   ],
   "metadata": {
    "collapsed": false
   }
  },
  {
   "cell_type": "code",
   "execution_count": 2,
   "outputs": [],
   "source": [
    "use_cuda = torch.cuda.is_available()\n",
    "if use_cuda:\n",
    "    device = torch.device('cuda')\n",
    "    torch.backends.cudnn.benchmark = True\n",
    "else:\n",
    "    device = False"
   ],
   "metadata": {
    "collapsed": false,
    "pycharm": {
     "name": "#%%\n"
    }
   }
  },
  {
   "cell_type": "markdown",
   "source": [
    "## Load dataset"
   ],
   "metadata": {
    "collapsed": false
   }
  },
  {
   "cell_type": "code",
   "execution_count": 3,
   "outputs": [
    {
     "name": "stdout",
     "output_type": "stream",
     "text": [
      "No data found. Downloading...\n",
      "Done.\n"
     ]
    }
   ],
   "source": [
    "if not os.path.exists('./data/iris.csv'):\n",
    "    print('No data found. Downloading...')\n",
    "    get_iris()\n",
    "    print('Done.')\n",
    "\n",
    "dataset = LoadDataset(name='iris', train_size=0.9)\n",
    "\n",
    "train_loader = DataLoader(dataset.get_train_data(), batch_size=20, shuffle=True)\n",
    "test_loader = DataLoader(dataset.get_test_data())"
   ],
   "metadata": {
    "collapsed": false,
    "pycharm": {
     "name": "#%%\n"
    }
   }
  },
  {
   "cell_type": "markdown",
   "source": [
    "## Build model"
   ],
   "metadata": {
    "collapsed": false
   }
  },
  {
   "cell_type": "code",
   "execution_count": 4,
   "outputs": [],
   "source": [
    "input_shape, output_shape = dataset.get_dimensions_models()\n",
    "model = Model(input_shape, output_shape, dropout=0.2)"
   ],
   "metadata": {
    "collapsed": false,
    "pycharm": {
     "name": "#%%\n"
    }
   }
  },
  {
   "cell_type": "markdown",
   "source": [
    "## Train model"
   ],
   "metadata": {
    "collapsed": false
   }
  },
  {
   "cell_type": "code",
   "execution_count": 5,
   "outputs": [
    {
     "name": "stdout",
     "output_type": "stream",
     "text": [
      "Epoch: 1/10 | Loss: 0.7679\n",
      "Epoch: 2/10 | Loss: 0.5829\n",
      "Epoch: 3/10 | Loss: 0.5608\n",
      "Epoch: 4/10 | Loss: 0.5519\n",
      "Epoch: 5/10 | Loss: 0.5535\n",
      "Epoch: 6/10 | Loss: 0.5515\n",
      "Epoch: 7/10 | Loss: 0.5516\n",
      "Epoch: 8/10 | Loss: 0.5516\n",
      "Epoch: 9/10 | Loss: 0.5574\n",
      "Epoch: 10/10 | Loss: 0.5515\n"
     ]
    }
   ],
   "source": [
    "optimizer = torch.optim.Adam(model.get_parameters(), lr=0.001)\n",
    "loss_func = torch.nn.CrossEntropyLoss()\n",
    "\n",
    "model.train(\n",
    "    train_loader,\n",
    "    epochs=10,\n",
    "    optimizer=optimizer,\n",
    "    loss_func=loss_func,\n",
    "    device=device\n",
    ")\n"
   ],
   "metadata": {
    "collapsed": false,
    "pycharm": {
     "name": "#%%\n"
    }
   }
  },
  {
   "cell_type": "markdown",
   "source": [
    "## Test model"
   ],
   "metadata": {
    "collapsed": false
   }
  },
  {
   "cell_type": "code",
   "execution_count": 6,
   "outputs": [
    {
     "name": "stdout",
     "output_type": "stream",
     "text": [
      "Accuracy: 100.0%\n"
     ]
    }
   ],
   "source": [
    "model.test(test_loader, device=device)"
   ],
   "metadata": {
    "collapsed": false,
    "pycharm": {
     "name": "#%%\n"
    }
   }
  }
 ],
 "metadata": {
  "kernelspec": {
   "name": "python373jvsc74a57bd0bc8203104e4edbfc6b0e398aa97a258c971b63b67d9d0331c4c88d8c639f2d82",
   "language": "python",
   "display_name": "Python 3.7.3 64-bit ('condaEnviroment': conda)"
  },
  "language_info": {
   "codemirror_mode": {
    "name": "ipython",
    "version": 2
   },
   "file_extension": ".py",
   "mimetype": "text/x-python",
   "name": "python",
   "nbconvert_exporter": "python",
   "pygments_lexer": "ipython2",
   "version": "2.7.6"
  }
 },
 "nbformat": 4,
 "nbformat_minor": 0
}